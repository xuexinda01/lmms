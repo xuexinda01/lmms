{
 "cells": [
  {
   "cell_type": "code",
   "execution_count": 1,
   "metadata": {},
   "outputs": [],
   "source": [
    "import os\n",
    "import re"
   ]
  },
  {
   "cell_type": "code",
   "execution_count": 11,
   "metadata": {},
   "outputs": [
    {
     "name": "stdout",
     "output_type": "stream",
     "text": [
      "This is <image><image><image><image> a test string with multiple markers <image><image><image>.\n"
     ]
    }
   ],
   "source": [
    "import re\n",
    "\n",
    "def sample_and_replace(text, n, img_token):\n",
    "    \"\"\"等间隔采样img,避免load sample中img过多OOM. from jiyuheng\n",
    "    \"\"\"\n",
    "    # find img position\n",
    "    matches = [match.start() for match in re.finditer(img_token, text)]\n",
    "    \n",
    "    if len(matches) <= n:\n",
    "        return text\n",
    "    \n",
    "    # 计算每个采样间隔\n",
    "    step = len(matches) / n\n",
    "    sampled_indices = set(int(i * step) for i in range(n))\n",
    "    \n",
    "    result = []\n",
    "    last_end = 0\n",
    "    \n",
    "    for i, start in enumerate(matches):\n",
    "        end = start + len(img_token)\n",
    "        if i in sampled_indices:\n",
    "            result.append(text[last_end:end])\n",
    "            last_end = end\n",
    "        else:\n",
    "            # 跳过img_token并删除前面的空格\n",
    "            result.append(text[last_end:start].rstrip())\n",
    "            last_end = end\n",
    "            \n",
    "    result.append(text[last_end:])\n",
    "    \n",
    "    return ''.join(result)\n",
    "\n",
    "# 示例\n",
    "DEFAULT_IMAGE_TOKEN = \"<image>\"\n",
    "text2 = \"This is <image><image><image><image><image> a test string with multiple markers <image><image><image><image><image>.\"\n",
    "result = sample_and_replace(text2, 7, DEFAULT_IMAGE_TOKEN)\n",
    "print(result)"
   ]
  },
  {
   "cell_type": "code",
   "execution_count": 1,
   "metadata": {},
   "outputs": [],
   "source": [
    "import json\n",
    "\n",
    "# 定义 JSON 文件的路径\n",
    "json_file_path = '/home/dataset_zoo/RTX-Instruct/rtx_annot_v0.json'\n",
    "\n",
    "# 读取 JSON 文件\n",
    "try:\n",
    "    with open(json_file_path, 'r', encoding='utf-8') as file:\n",
    "        data = json.load(file)  # 将 JSON 内容加载为 Python 对象\n",
    "        print(data)  # 输出读取的数据\n",
    "except FileNotFoundError:\n",
    "    print(f\"文件未找到: {json_file_path}\")\n",
    "except json.JSONDecodeError:\n",
    "    print(\"读取 JSON 时出错，请检查文件格式。\")\n",
    "except Exception as e:\n",
    "    print(f\"发生错误: {e}\")\n",
    "    "
   ]
  },
  {
   "cell_type": "code",
   "execution_count": 3,
   "metadata": {},
   "outputs": [
    {
     "name": "stdout",
     "output_type": "stream",
     "text": [
      "['rt_frames_success/rtx_frames_success_46/62_robo_set#episode_3423/frame_15.png', 'rt_frames_success/rtx_frames_success_46/62_robo_set#episode_3423/frame_16.png', 'rt_frames_success/rtx_frames_success_46/62_robo_set#episode_3423/frame_17.png', 'rt_frames_success/rtx_frames_success_46/62_robo_set#episode_3423/frame_18.png', 'rt_frames_success/rtx_frames_success_46/62_robo_set#episode_3423/frame_19.png', 'rt_frames_success/rtx_frames_success_46/62_robo_set#episode_3423/frame_20.png', 'rt_frames_success/rtx_frames_success_46/62_robo_set#episode_3423/frame_21.png']\n"
     ]
    }
   ],
   "source": [
    "data_list = []\n",
    "def write_json(file, data):\n",
    "    with open(file, \"w\") as f:\n",
    "        json.dump(data, f, indent=2)\n",
    "        \n",
    "for item in data:\n",
    "    example_image = item['image'][0]\n",
    "    if \"rtx_frames_success_46/62_robo_set#episode_3423\" in example_image:\n",
    "        data_list.append(item)\n",
    "        \n",
    "write_json('/home/henry/LLaVA-NeXT/llava/train/rtx_annot_v0_3423.json', data_list)\n",
    "\n",
    "\n",
    "        "
   ]
  },
  {
   "cell_type": "code",
   "execution_count": 1,
   "metadata": {},
   "outputs": [],
   "source": [
    "import json\n",
    "\n",
    "# 定义 JSON 文件的路径\n",
    "json_file_path = '/home/dataset_zoo/RTX-Instruct/rtx_annot_v0.json'"
   ]
  },
  {
   "cell_type": "code",
   "execution_count": 2,
   "metadata": {},
   "outputs": [],
   "source": [
    "with open(json_file_path, 'r', encoding='utf-8') as file:\n",
    "        data = json.load(file)  # 将 JSON 内容加载为 Python 对象"
   ]
  },
  {
   "cell_type": "code",
   "execution_count": null,
   "metadata": {},
   "outputs": [],
   "source": [
    "text = \"<image> <image> <image> <image> <image> <image> <image> <image> <image> <image> <image> <image> <image> <image> <image> <image> <image> <image> <image> <image> <image> <image> <image> <image> <image> <image> <image> <image> <image>\\nHas <release the blue block> reached completion?\""
   ]
  },
  {
   "cell_type": "code",
   "execution_count": 3,
   "metadata": {},
   "outputs": [],
   "source": [
    "DEFAULT_IMAGE_TOKEN = '<image>'"
   ]
  },
  {
   "cell_type": "code",
   "execution_count": null,
   "metadata": {},
   "outputs": [
    {
     "ename": "NameError",
     "evalue": "name 'text' is not defined",
     "output_type": "error",
     "traceback": [
      "\u001b[0;31m---------------------------------------------------------------------------\u001b[0m",
      "\u001b[0;31mNameError\u001b[0m                                 Traceback (most recent call last)",
      "Cell \u001b[0;32mIn[12], line 1\u001b[0m\n\u001b[0;32m----> 1\u001b[0m num_im \u001b[38;5;241m=\u001b[39m \u001b[38;5;28mlen\u001b[39m(re\u001b[38;5;241m.\u001b[39mfindall(DEFAULT_IMAGE_TOKEN, \u001b[43mtext\u001b[49m))\n",
      "\u001b[0;31mNameError\u001b[0m: name 'text' is not defined"
     ]
    }
   ],
   "source": [
    "text = \"<image> <image> <image> <image> <image> <image> <image> <image> <image> <image> <image> <image> <image> <image> <image> <image> <image> <image> <image> <image> <image> <image> <image> <image> <image> <image> <image> <image> <image>\\nHas <release the blue block> reached completion?\"\n",
    "num_im = len(re.findall(DEFAULT_IMAGE_TOKEN, text))"
   ]
  },
  {
   "cell_type": "code",
   "execution_count": 2,
   "metadata": {},
   "outputs": [
    {
     "name": "stdout",
     "output_type": "stream",
     "text": [
      "29\n"
     ]
    }
   ],
   "source": [
    "import re\n",
    "\n",
    "DEFAULT_IMAGE_TOKEN = \"<image>\"\n",
    "text = \"<image> <image> <image> <image> <image> <image> <image> <image> <image> <image> <image> <image> <image> <image> <image> <image> <image> <image> <image> <image> <image> <image> <image> <image> <image> <image> <image> <image> <image>\\nHas <release the blue block> reached completion?\"\n",
    "\n",
    "num_im = len(re.findall(DEFAULT_IMAGE_TOKEN, text))\n",
    "print(num_im)  # 输出图像标记的数量\n"
   ]
  },
  {
   "cell_type": "code",
   "execution_count": 5,
   "metadata": {},
   "outputs": [
    {
     "name": "stdout",
     "output_type": "stream",
     "text": [
      "<image> <image> <image> <image> <image> <image> <image> <image> <image> <image> <image> <image> <image> <image> <image> <image>\n",
      "Has <release the blue block> reached completion?\n"
     ]
    }
   ],
   "source": [
    "text1 = sample_and_replace(text, 16, DEFAULT_IMAGE_TOKEN)\n",
    "len(re.findall(DEFAULT_IMAGE_TOKEN, text1))\n",
    "print(text1)"
   ]
  },
  {
   "cell_type": "code",
   "execution_count": 6,
   "metadata": {},
   "outputs": [
    {
     "data": {
      "text/plain": [
       "'Has <release the blue block> reached completion?'"
      ]
     },
     "execution_count": 6,
     "metadata": {},
     "output_type": "execute_result"
    }
   ],
   "source": [
    "text.replace(DEFAULT_IMAGE_TOKEN, '').strip()"
   ]
  },
  {
   "cell_type": "code",
   "execution_count": 14,
   "metadata": {},
   "outputs": [
    {
     "data": {
      "text/plain": [
       "'This is <image><image><image> a test string with multiple markers <image><image><image> new token <image> some of dogs <image><image>.'"
      ]
     },
     "execution_count": 14,
     "metadata": {},
     "output_type": "execute_result"
    }
   ],
   "source": [
    "text2 = \"This is <image><image><image><image><image> a test string with multiple markers <image><image><image><image><image> new token <image><image> some of dogs <image><image><image><image>.\"\n",
    "sample_and_replace(text2, 9, DEFAULT_IMAGE_TOKEN)"
   ]
  }
 ],
 "metadata": {
  "kernelspec": {
   "display_name": "llava",
   "language": "python",
   "name": "python3"
  },
  "language_info": {
   "codemirror_mode": {
    "name": "ipython",
    "version": 3
   },
   "file_extension": ".py",
   "mimetype": "text/x-python",
   "name": "python",
   "nbconvert_exporter": "python",
   "pygments_lexer": "ipython3",
   "version": "3.10.14"
  }
 },
 "nbformat": 4,
 "nbformat_minor": 2
}
